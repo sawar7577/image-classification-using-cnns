{
  "nbformat": 4,
  "nbformat_minor": 0,
  "metadata": {
    "colab": {
      "name": "objectdetection.ipynb",
      "provenance": [],
      "collapsed_sections": []
    },
    "kernelspec": {
      "name": "python3",
      "display_name": "Python 3"
    },
    "accelerator": "GPU"
  },
  "cells": [
    {
      "cell_type": "code",
      "metadata": {
        "id": "TeguetoCmdvF",
        "colab_type": "code",
        "colab": {}
      },
      "source": [
        "import numpy as np\n",
        "import os\n",
        "import matplotlib.pyplot as plt\n",
        "\n",
        "import torch\n",
        "import torch.nn as nn\n",
        "import torch.optim as optim\n",
        "import torch.nn.functional as F\n",
        "\n",
        "from torch.utils.data import TensorDataset, DataLoader, Dataset\n",
        "import torchvision.transforms as transforms\n",
        "from torch.utils.data.sampler import SubsetRandomSampler\n",
        "import torchvision.datasets\n",
        "import torchvision.models as model"
      ],
      "execution_count": 0,
      "outputs": []
    },
    {
      "cell_type": "code",
      "metadata": {
        "id": "NfYaDVdz5mCF",
        "colab_type": "code",
        "colab": {}
      },
      "source": [
        "BATCH = 128\n",
        "NUM_EPOCHS = 100"
      ],
      "execution_count": 0,
      "outputs": []
    },
    {
      "cell_type": "code",
      "metadata": {
        "id": "eTlRQ05GmgXL",
        "colab_type": "code",
        "colab": {}
      },
      "source": [
        "class CNN(nn.Module):\n",
        "    def __init__(self):\n",
        "        super(CNN, self).__init__()\n",
        "        self.layer1 = nn.Sequential(\n",
        "            nn.Conv2d(3, 64, kernel_size=3, padding=1),\n",
        "            nn.ReLU(),\n",
        "            nn.MaxPool2d(2),\n",
        "            nn.BatchNorm2d(64))\n",
        "        self.layer2 = nn.Sequential(\n",
        "            nn.Conv2d(64, 128, kernel_size=3, padding=1),\n",
        "            nn.ReLU(),\n",
        "            nn.MaxPool2d(2),\n",
        "            nn.BatchNorm2d(128))\n",
        "        self.layer3 = nn.Sequential(\n",
        "            nn.Conv2d(128, 256, kernel_size=5, padding=2),\n",
        "            nn.ReLU(),\n",
        "            nn.MaxPool2d(2),\n",
        "            nn.BatchNorm2d(256))\n",
        "        self.layer4 = nn.Sequential(\n",
        "            nn.Conv2d(256, 512, kernel_size=5, padding=2),\n",
        "            nn.ReLU(),\n",
        "            nn.MaxPool2d(2),\n",
        "            nn.BatchNorm2d(512))\n",
        "        self.fc1 = nn.Sequential(\n",
        "            nn.Linear(2048, 256),\n",
        "            nn.ReLU(),\n",
        "            nn.Dropout(p=0.5))\n",
        "        self.fc2 = nn.Sequential(\n",
        "            nn.Linear(256, 512),\n",
        "            nn.ReLU(),\n",
        "            nn.Dropout(p=0.5))\n",
        "        self.fc3 = nn.Sequential(\n",
        "            nn.Linear(512, 1024),\n",
        "            nn.ReLU(),\n",
        "            nn.Dropout(p=0.5))\n",
        "        self.fc4 = nn.Sequential(\n",
        "            nn.Linear(1024, 100))\n",
        "        \n",
        "    def forward(self, x):\n",
        "        out = self.layer1(x)\n",
        "        out = self.layer2(out)\n",
        "        out = self.layer3(out)\n",
        "        out = self.layer4(out)\n",
        "\n",
        "        out = out.view(out.size(0), -1)\n",
        "        out = self.fc1(out)\n",
        "        out = self.fc2(out)\n",
        "        out = self.fc3(out)\n",
        "        out = self.fc4(out)\n",
        "        return out"
      ],
      "execution_count": 0,
      "outputs": []
    },
    {
      "cell_type": "code",
      "metadata": {
        "id": "cW3vorXz5rU-",
        "colab_type": "code",
        "colab": {}
      },
      "source": [
        "transform_train = transforms.Compose([\n",
        "        transforms.RandomCrop(32, padding=4),\n",
        "        transforms.RandomHorizontalFlip(),\n",
        "        transforms.ToTensor(),\n",
        "        transforms.Normalize((0.4914, 0.4822, 0.4465), (0.2023, 0.1994, 0.2010)),\n",
        "    ])\n",
        "\n",
        "transform_test = transforms.Compose([\n",
        "        transforms.ToTensor(),\n",
        "        transforms.Normalize((0.4914, 0.4822, 0.4465), (0.2023, 0.1994, 0.2010)),\n",
        "    ])"
      ],
      "execution_count": 0,
      "outputs": []
    },
    {
      "cell_type": "code",
      "metadata": {
        "id": "Q9itCz8m5zJ6",
        "colab_type": "code",
        "colab": {
          "base_uri": "https://localhost:8080/",
          "height": 34
        },
        "outputId": "d6967b7d-8044-4c7f-de8f-42ca0b9cf274"
      },
      "source": [
        "validation_split = .2\n",
        "shuffle_dataset = True\n",
        "random_seed= 42\n",
        "\n",
        "dataset = torchvision.datasets.CIFAR100(root='./', train=True, download=True, transform=transform_train)\n",
        "# Creating data indices for training and validation splits:\n",
        "dataset_size = len(dataset)\n",
        "indices = list(range(dataset_size))\n",
        "split = int(np.floor(validation_split * dataset_size))\n",
        "if shuffle_dataset :\n",
        "    np.random.seed(random_seed)\n",
        "    np.random.shuffle(indices)\n",
        "train_indices, val_indices = indices[split:], indices[:split]\n",
        "\n",
        "# Creating PT data samplers and loaders:\n",
        "trainsampler = SubsetRandomSampler(train_indices)\n",
        "validsampler = SubsetRandomSampler(val_indices)\n",
        "\n",
        "trainloader = torch.utils.data.DataLoader(dataset, batch_size=BATCH, \n",
        "                                           sampler=trainsampler, num_workers=2)\n",
        "validloader = torch.utils.data.DataLoader(dataset, batch_size=BATCH,\n",
        "                                                sampler=validsampler, num_workers=2)"
      ],
      "execution_count": 7,
      "outputs": [
        {
          "output_type": "stream",
          "text": [
            "Files already downloaded and verified\n"
          ],
          "name": "stdout"
        }
      ]
    },
    {
      "cell_type": "code",
      "metadata": {
        "id": "BxkaamH052WR",
        "colab_type": "code",
        "colab": {
          "base_uri": "https://localhost:8080/",
          "height": 34
        },
        "outputId": "72794164-59bf-4555-ac0d-1c5b2d8e5578"
      },
      "source": [
        "testset = torchvision.datasets.CIFAR100(root='./', train=False, download=True, transform=transform_test)\n",
        "testloader = torch.utils.data.DataLoader(testset, batch_size=BATCH, num_workers=2)"
      ],
      "execution_count": 8,
      "outputs": [
        {
          "output_type": "stream",
          "text": [
            "Files already downloaded and verified\n"
          ],
          "name": "stdout"
        }
      ]
    },
    {
      "cell_type": "code",
      "metadata": {
        "id": "zMyglkEZ6D0V",
        "colab_type": "code",
        "colab": {}
      },
      "source": [
        "model = CNN()\n",
        "model = model.cuda()"
      ],
      "execution_count": 0,
      "outputs": []
    },
    {
      "cell_type": "code",
      "metadata": {
        "id": "3Fb__GzP593I",
        "colab_type": "code",
        "colab": {}
      },
      "source": [
        "criterion = nn.CrossEntropyLoss()\n",
        "optimizer = optim.Adam(model.parameters(), lr=1e-3, weight_decay=0.0005)"
      ],
      "execution_count": 0,
      "outputs": []
    },
    {
      "cell_type": "code",
      "metadata": {
        "id": "vva7zhKt5DgK",
        "colab_type": "code",
        "colab": {}
      },
      "source": [
        "def train(trainloader, model, criterion, optimizer):\n",
        "\n",
        "  model.train()\n",
        "\n",
        "  losses = 0\n",
        "  total = 0\n",
        "  correct = 0\n",
        "\n",
        "  for batch_idx, (inputs, targets) in enumerate(trainloader):\n",
        "    \n",
        "    inputs, targets = inputs.cuda(), targets.cuda()\n",
        "    \n",
        "    outputs = model(inputs)\n",
        "    \n",
        "    loss =  criterion(outputs, targets)\n",
        "\n",
        "    _, predicted = torch.max(outputs.data, 1)\n",
        "    \n",
        "    total += targets.size(0)\n",
        "    correct += (predicted == targets).sum()\n",
        "    losses += loss.item()*inputs.size(0)\n",
        "\n",
        "    optimizer.zero_grad()\n",
        "    loss.backward()\n",
        "    optimizer.step()\n",
        "  return (losses / total, 100.0 * correct / total)\n"
      ],
      "execution_count": 0,
      "outputs": []
    },
    {
      "cell_type": "code",
      "metadata": {
        "id": "x2nx0Kad5LVv",
        "colab_type": "code",
        "colab": {}
      },
      "source": [
        "def validate(validloader, model, criterion):\n",
        "  model.eval()\n",
        "\n",
        "  losses = 0\n",
        "  total = 0\n",
        "  correct = 0\n",
        "\n",
        "  with torch.no_grad():\n",
        "    for batch_idx, (inputs, targets) in enumerate(validloader):\n",
        "      inputs, targets = inputs.cuda(), targets.cuda()\n",
        "      \n",
        "      outputs = model(inputs)\n",
        "      loss =  criterion(outputs, targets)\n",
        "\n",
        "      _, predicted = torch.max(outputs.data, 1)\n",
        "      \n",
        "      total += targets.size(0)\n",
        "      correct += (predicted == targets).sum()\n",
        "      losses += loss.item()*inputs.size(0)\n",
        "    \n",
        "\n",
        "  return (losses / total, 100.0 * correct / total)"
      ],
      "execution_count": 0,
      "outputs": []
    },
    {
      "cell_type": "code",
      "metadata": {
        "id": "af_A8EMy5P2-",
        "colab_type": "code",
        "colab": {}
      },
      "source": [
        "def test(testloader, model, criterion):\n",
        "  model.eval()\n",
        "\n",
        "  losses = 0\n",
        "  total = 0\n",
        "  correct = 0\n",
        "\n",
        "  with torch.no_grad():\n",
        "    for batch_idx, (inputs, targets) in enumerate(testloader):\n",
        "      inputs, targets = inputs.cuda(), targets.cuda()\n",
        "      \n",
        "      outputs = model(inputs)\n",
        "      loss =  criterion(outputs, targets)\n",
        "\n",
        "      _, predicted = torch.max(outputs.data, 1)\n",
        "      \n",
        "      total += targets.size(0)\n",
        "      correct += (predicted == targets).sum()\n",
        "      losses += loss.item()*inputs.size(0)\n",
        "    \n",
        "\n",
        "  return (losses / total, 100.0 * correct / total)\n"
      ],
      "execution_count": 0,
      "outputs": []
    },
    {
      "cell_type": "code",
      "metadata": {
        "id": "BAanVK4x5UpL",
        "colab_type": "code",
        "colab": {
          "base_uri": "https://localhost:8080/",
          "height": 139
        },
        "outputId": "7b3bd7ae-b83c-4e86-fc08-9d122d7b7dfe"
      },
      "source": [
        "def run_model(trainloader, validloader, testloader, model, criterion, optimizer):\n",
        "  import time\n",
        "  train_losses = []\n",
        "  train_accuracy = []\n",
        "\n",
        "  valid_losses = []\n",
        "  valid_accuracy = []\n",
        "\n",
        "  for epoch in range(NUM_EPOCHS):\n",
        "    st = time.time()\n",
        "    tlosses, tacc = train(trainloader, model, criterion, optimizer)\n",
        "    vlosses, vacc = validate(validloader, model, criterion)\n",
        "    print('Epoch: {}:: train_loss: {}, train_accuracy: {} \\n valid_loss: {}, valid_accuracy: {}'.format(\n",
        "        epoch, tlosses, tacc,\n",
        "        vlosses, vacc\n",
        "    ))\n",
        "    train_losses.append(tlosses)\n",
        "    train_accuracy.append(tacc)\n",
        "    valid_losses.append(vlosses)\n",
        "    valid_accuracy.append(vacc)\n",
        "    \n",
        "    en = time.time()\n",
        "    print(\"epoch took:\", en - st)\n",
        "\n",
        "  test_loss, test_accuracy = test(testloader, model, criterion)\n",
        "  print(\"test loss:\", test_loss, \"test_accuracy:\", test_accuracy)\n",
        "  return {\n",
        "      'train' : (train_losses, train_accuracy),\n",
        "      'val'  : (valid_losses, valid_accuracy),\n",
        "      'test' : (test_loss, test_accuracy)\n",
        "  }\n",
        "\n",
        "result = run_model(trainloader, validloader, testloader, model, criterion, optimizer)\n"
      ],
      "execution_count": 18,
      "outputs": [
        {
          "output_type": "stream",
          "text": [
            "Epoch: 0:: train_loss: 4.153549988555908, train_accuracy: 5.577499866485596 \n",
            " valid_loss: 3.7445322036743165, valid_accuracy: 11.239999771118164\n",
            "epoch took: 15.170132875442505\n",
            "Epoch: 1:: train_loss: 3.7501780254364014, train_accuracy: 10.69749927520752 \n",
            " valid_loss: 3.4017262115478517, valid_accuracy: 16.209999084472656\n",
            "epoch took: 14.8888521194458\n",
            "test loss: 3.3871428764343263 test_accuracy: tensor(16.6000, device='cuda:0')\n"
          ],
          "name": "stdout"
        }
      ]
    },
    {
      "cell_type": "code",
      "metadata": {
        "id": "jWltnbfcK7_0",
        "colab_type": "code",
        "colab": {
          "base_uri": "https://localhost:8080/",
          "height": 312
        },
        "outputId": "5c7b5a73-20b0-419b-c413-db3c0512dbb5"
      },
      "source": [
        "epochs = range(0,NUM_EPOCHS)\n",
        "plt.plot(epochs, result['train'][0], 'b', label='training loss')\n",
        "plt.plot(epochs, result['val'][0], 'g', label='validation loss')\n",
        "plt.title('Training and validation loss')\n",
        "plt.xlabel('Epochs')\n",
        "plt.ylabel('Loss')\n",
        "plt.legend()"
      ],
      "execution_count": 19,
      "outputs": [
        {
          "output_type": "execute_result",
          "data": {
            "text/plain": [
              "<matplotlib.legend.Legend at 0x7fa24e9879e8>"
            ]
          },
          "metadata": {
            "tags": []
          },
          "execution_count": 19
        },
        {
          "output_type": "display_data",
          "data": {
            "image/png": "[encoded data removed]",
            "text/plain": [
              "<Figure size 432x288 with 1 Axes>"
            ]
          },
          "metadata": {
            "tags": [],
            "needs_background": "light"
          }
        }
      ]
    },
    {
      "cell_type": "code",
      "metadata": {
        "id": "_WYC4AMg_GOE",
        "colab_type": "code",
        "colab": {
          "base_uri": "https://localhost:8080/",
          "height": 295
        },
        "outputId": "ee27dac9-698c-48b1-b81a-8e29443a0402"
      },
      "source": [
        "epochs = range(0,NUM_EPOCHS)\n",
        "plt.plot(epochs, result['train'][1], 'b', label='training accuracy')\n",
        "plt.plot(epochs, result['val'][1], 'g', label='validation accuracy')\n",
        "plt.title('Training and Validation Accuracy')\n",
        "plt.xlabel('Epochs')\n",
        "plt.ylabel('Accuracy')\n",
        "plt.legend()\n",
        "plt.show()"
      ],
      "execution_count": 20,
      "outputs": [
        {
          "output_type": "display_data",
          "data": {
            "image/png": "[encoded data removed]",
            "text/plain": [
              "<Figure size 432x288 with 1 Axes>"
            ]
          },
          "metadata": {
            "tags": [],
            "needs_background": "light"
          }
        }
      ]
    },
    {
      "cell_type": "code",
      "metadata": {
        "id": "pFWBM6bA_Wo7",
        "colab_type": "code",
        "colab": {}
      },
      "source": [
        ""
      ],
      "execution_count": 0,
      "outputs": []
    }
  ]
}